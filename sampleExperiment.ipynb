{
 "cells": [
  {
   "cell_type": "code",
   "execution_count": 1,
   "metadata": {},
   "outputs": [
    {
     "name": "stdout",
     "output_type": "stream",
     "text": [
      "Processing c:\\users\\zetatek\\desktop\\commit\\vevestax\\samplecode\\vevestax-6.8.0-py3-none-any.whl\n",
      "Requirement already satisfied: pyspark in c:\\users\\zetatek\\anaconda3\\lib\\site-packages (from vevestaX==6.8.0) (3.2.1)\n",
      "Requirement already satisfied: xlrd in c:\\users\\zetatek\\anaconda3\\lib\\site-packages (from vevestaX==6.8.0) (2.0.1)\n",
      "Requirement already satisfied: requests in c:\\users\\zetatek\\anaconda3\\lib\\site-packages (from vevestaX==6.8.0) (2.25.1)\n",
      "Requirement already satisfied: PyGithub in c:\\users\\zetatek\\anaconda3\\lib\\site-packages (from vevestaX==6.8.0) (1.55)\n",
      "Requirement already satisfied: statistics in c:\\users\\zetatek\\anaconda3\\lib\\site-packages (from vevestaX==6.8.0) (1.0.3.5)\n",
      "Requirement already satisfied: matplotlib in c:\\users\\zetatek\\anaconda3\\lib\\site-packages (from vevestaX==6.8.0) (3.3.4)\n",
      "Requirement already satisfied: img2pdf in c:\\users\\zetatek\\anaconda3\\lib\\site-packages (from vevestaX==6.8.0) (0.4.4)\n",
      "Requirement already satisfied: numpy in c:\\users\\zetatek\\anaconda3\\lib\\site-packages (from vevestaX==6.8.0) (1.20.1)\n",
      "Requirement already satisfied: pandas in c:\\users\\zetatek\\anaconda3\\lib\\site-packages (from vevestaX==6.8.0) (1.2.4)\n",
      "Requirement already satisfied: datetime in c:\\users\\zetatek\\anaconda3\\lib\\site-packages (from vevestaX==6.8.0) (4.4)\n",
      "Requirement already satisfied: scipy in c:\\users\\zetatek\\anaconda3\\lib\\site-packages (from vevestaX==6.8.0) (1.5.4)\n",
      "Requirement already satisfied: openpyxl in c:\\users\\zetatek\\anaconda3\\lib\\site-packages (from vevestaX==6.8.0) (3.0.7)\n",
      "Requirement already satisfied: Jinja2 in c:\\users\\zetatek\\anaconda3\\lib\\site-packages (from vevestaX==6.8.0) (2.11.3)\n",
      "Requirement already satisfied: ipynbname in c:\\users\\zetatek\\anaconda3\\lib\\site-packages (from vevestaX==6.8.0) (2021.3.2)\n",
      "Requirement already satisfied: zope.interface in c:\\users\\zetatek\\anaconda3\\lib\\site-packages (from datetime->vevestaX==6.8.0) (5.3.0)\n",
      "Requirement already satisfied: pytz in c:\\users\\zetatek\\anaconda3\\lib\\site-packages (from datetime->vevestaX==6.8.0) (2021.1)\n",
      "Requirement already satisfied: pikepdf in c:\\users\\zetatek\\anaconda3\\lib\\site-packages (from img2pdf->vevestaX==6.8.0) (5.2.0)\n",
      "Requirement already satisfied: Pillow in c:\\users\\zetatek\\anaconda3\\lib\\site-packages (from img2pdf->vevestaX==6.8.0) (8.2.0)\n",
      "Requirement already satisfied: ipykernel in c:\\users\\zetatek\\anaconda3\\lib\\site-packages (from ipynbname->vevestaX==6.8.0) (5.3.4)\n",
      "Requirement already satisfied: tornado>=4.2 in c:\\users\\zetatek\\anaconda3\\lib\\site-packages (from ipykernel->ipynbname->vevestaX==6.8.0) (6.1)\n",
      "Requirement already satisfied: jupyter-client in c:\\users\\zetatek\\anaconda3\\lib\\site-packages (from ipykernel->ipynbname->vevestaX==6.8.0) (6.1.12)\n",
      "Requirement already satisfied: ipython>=5.0.0 in c:\\users\\zetatek\\anaconda3\\lib\\site-packages (from ipykernel->ipynbname->vevestaX==6.8.0) (7.22.0)\n",
      "Requirement already satisfied: traitlets>=4.1.0 in c:\\users\\zetatek\\anaconda3\\lib\\site-packages (from ipykernel->ipynbname->vevestaX==6.8.0) (5.0.5)\n",
      "Requirement already satisfied: pickleshare in c:\\users\\zetatek\\anaconda3\\lib\\site-packages (from ipython>=5.0.0->ipykernel->ipynbname->vevestaX==6.8.0) (0.7.5)\n",
      "Requirement already satisfied: jedi>=0.16 in c:\\users\\zetatek\\anaconda3\\lib\\site-packages (from ipython>=5.0.0->ipykernel->ipynbname->vevestaX==6.8.0) (0.17.2)\n",
      "Requirement already satisfied: prompt-toolkit!=3.0.0,!=3.0.1,<3.1.0,>=2.0.0 in c:\\users\\zetatek\\anaconda3\\lib\\site-packages (from ipython>=5.0.0->ipykernel->ipynbname->vevestaX==6.8.0) (3.0.17)\n",
      "Requirement already satisfied: setuptools>=18.5 in c:\\users\\zetatek\\anaconda3\\lib\\site-packages (from ipython>=5.0.0->ipykernel->ipynbname->vevestaX==6.8.0) (52.0.0.post20210125)\n",
      "Requirement already satisfied: colorama in c:\\users\\zetatek\\anaconda3\\lib\\site-packages (from ipython>=5.0.0->ipykernel->ipynbname->vevestaX==6.8.0) (0.4.4)\n",
      "Requirement already satisfied: decorator in c:\\users\\zetatek\\anaconda3\\lib\\site-packages (from ipython>=5.0.0->ipykernel->ipynbname->vevestaX==6.8.0) (5.0.6)\n",
      "Requirement already satisfied: backcall in c:\\users\\zetatek\\anaconda3\\lib\\site-packages (from ipython>=5.0.0->ipykernel->ipynbname->vevestaX==6.8.0) (0.2.0)\n",
      "Requirement already satisfied: pygments in c:\\users\\zetatek\\anaconda3\\lib\\site-packages (from ipython>=5.0.0->ipykernel->ipynbname->vevestaX==6.8.0) (2.8.1)\n",
      "Requirement already satisfied: parso<0.8.0,>=0.7.0 in c:\\users\\zetatek\\anaconda3\\lib\\site-packages (from jedi>=0.16->ipython>=5.0.0->ipykernel->ipynbname->vevestaX==6.8.0) (0.7.0)\n",
      "Requirement already satisfied: wcwidth in c:\\users\\zetatek\\anaconda3\\lib\\site-packages (from prompt-toolkit!=3.0.0,!=3.0.1,<3.1.0,>=2.0.0->ipython>=5.0.0->ipykernel->ipynbname->vevestaX==6.8.0) (0.2.5)\n",
      "Requirement already satisfied: ipython-genutils in c:\\users\\zetatek\\anaconda3\\lib\\site-packages (from traitlets>=4.1.0->ipykernel->ipynbname->vevestaX==6.8.0) (0.2.0)\n",
      "Requirement already satisfied: MarkupSafe>=0.23 in c:\\users\\zetatek\\anaconda3\\lib\\site-packages (from Jinja2->vevestaX==6.8.0) (1.1.1)\n",
      "Requirement already satisfied: jupyter-core>=4.6.0 in c:\\users\\zetatek\\anaconda3\\lib\\site-packages (from jupyter-client->ipykernel->ipynbname->vevestaX==6.8.0) (4.7.1)\n",
      "Requirement already satisfied: pyzmq>=13 in c:\\users\\zetatek\\anaconda3\\lib\\site-packages (from jupyter-client->ipykernel->ipynbname->vevestaX==6.8.0) (20.0.0)\n",
      "Requirement already satisfied: python-dateutil>=2.1 in c:\\users\\zetatek\\anaconda3\\lib\\site-packages (from jupyter-client->ipykernel->ipynbname->vevestaX==6.8.0) (2.8.1)\n",
      "Requirement already satisfied: pywin32>=1.0 in c:\\users\\zetatek\\anaconda3\\lib\\site-packages (from jupyter-core>=4.6.0->jupyter-client->ipykernel->ipynbname->vevestaX==6.8.0) (227)\n",
      "Requirement already satisfied: six>=1.5 in c:\\users\\zetatek\\anaconda3\\lib\\site-packages (from python-dateutil>=2.1->jupyter-client->ipykernel->ipynbname->vevestaX==6.8.0) (1.15.0)\n",
      "Requirement already satisfied: pyparsing!=2.0.4,!=2.1.2,!=2.1.6,>=2.0.3 in c:\\users\\zetatek\\anaconda3\\lib\\site-packages (from matplotlib->vevestaX==6.8.0) (2.4.7)\n",
      "Requirement already satisfied: cycler>=0.10 in c:\\users\\zetatek\\anaconda3\\lib\\site-packages (from matplotlib->vevestaX==6.8.0) (0.10.0)\n",
      "Requirement already satisfied: kiwisolver>=1.0.1 in c:\\users\\zetatek\\anaconda3\\lib\\site-packages (from matplotlib->vevestaX==6.8.0) (1.3.1)\n",
      "Requirement already satisfied: et-xmlfile in c:\\users\\zetatek\\anaconda3\\lib\\site-packages (from openpyxl->vevestaX==6.8.0) (1.0.1)\n",
      "Requirement already satisfied: deprecation in c:\\users\\zetatek\\anaconda3\\lib\\site-packages (from pikepdf->img2pdf->vevestaX==6.8.0) (2.1.0)\n",
      "Requirement already satisfied: packaging in c:\\users\\zetatek\\anaconda3\\lib\\site-packages (from pikepdf->img2pdf->vevestaX==6.8.0) (20.9)\n",
      "Requirement already satisfied: lxml>=4.0 in c:\\users\\zetatek\\anaconda3\\lib\\site-packages (from pikepdf->img2pdf->vevestaX==6.8.0) (4.6.3)\n",
      "Requirement already satisfied: deprecated in c:\\users\\zetatek\\anaconda3\\lib\\site-packages (from PyGithub->vevestaX==6.8.0) (1.2.13)\n",
      "Requirement already satisfied: pyjwt>=2.0 in c:\\users\\zetatek\\anaconda3\\lib\\site-packages (from PyGithub->vevestaX==6.8.0) (2.1.0)\n",
      "Requirement already satisfied: pynacl>=1.4.0 in c:\\users\\zetatek\\anaconda3\\lib\\site-packages (from PyGithub->vevestaX==6.8.0) (1.4.0)\n",
      "Requirement already satisfied: cffi>=1.4.1 in c:\\users\\zetatek\\anaconda3\\lib\\site-packages (from pynacl>=1.4.0->PyGithub->vevestaX==6.8.0) (1.14.5)\n",
      "Requirement already satisfied: pycparser in c:\\users\\zetatek\\anaconda3\\lib\\site-packages (from cffi>=1.4.1->pynacl>=1.4.0->PyGithub->vevestaX==6.8.0) (2.20)\n",
      "Requirement already satisfied: urllib3<1.27,>=1.21.1 in c:\\users\\zetatek\\anaconda3\\lib\\site-packages (from requests->vevestaX==6.8.0) (1.23)\n",
      "Requirement already satisfied: idna<3,>=2.5 in c:\\users\\zetatek\\anaconda3\\lib\\site-packages (from requests->vevestaX==6.8.0) (2.10)\n",
      "Requirement already satisfied: certifi>=2017.4.17 in c:\\users\\zetatek\\anaconda3\\lib\\site-packages (from requests->vevestaX==6.8.0) (2020.12.5)\n",
      "Requirement already satisfied: chardet<5,>=3.0.2 in c:\\users\\zetatek\\anaconda3\\lib\\site-packages (from requests->vevestaX==6.8.0) (3.0.4)\n",
      "Requirement already satisfied: wrapt<2,>=1.10 in c:\\users\\zetatek\\anaconda3\\lib\\site-packages (from deprecated->PyGithub->vevestaX==6.8.0) (1.12.1)\n",
      "Requirement already satisfied: py4j==0.10.9.3 in c:\\users\\zetatek\\anaconda3\\lib\\site-packages (from pyspark->vevestaX==6.8.0) (0.10.9.3)\n",
      "Note: you may need to restart the kernel to use updated packages.\n",
      "Requirement already satisfied: docutils>=0.3 in c:\\users\\zetatek\\anaconda3\\lib\\site-packages (from statistics->vevestaX==6.8.0) (0.17)\n",
      "Installing collected packages: vevestaX\n",
      "  Attempting uninstall: vevestaX\n",
      "    Found existing installation: vevestaX 6.7.0\n",
      "    Uninstalling vevestaX-6.7.0:\n",
      "      Successfully uninstalled vevestaX-6.7.0\n"
     ]
    },
    {
     "name": "stdout",
     "output_type": "stream",
     "text": [
      "Successfully installed vevestaX-6.8.0\n"
     ]
    }
   ],
   "source": [
    "pip install vevestaX-6.8.0-py3-none-any.whl"
   ]
  },
  {
   "cell_type": "code",
   "execution_count": 2,
   "metadata": {},
   "outputs": [],
   "source": [
    "#import the vevesta Library\n",
    "from vevestaX import vevesta as v\n",
    "\n",
    "#create a vevestaX object\n",
    "V=v.Experiment()"
   ]
  },
  {
   "cell_type": "code",
   "execution_count": 3,
   "metadata": {
    "scrolled": true
   },
   "outputs": [
    {
     "data": {
      "text/html": [
       "<div>\n",
       "<style scoped>\n",
       "    .dataframe tbody tr th:only-of-type {\n",
       "        vertical-align: middle;\n",
       "    }\n",
       "\n",
       "    .dataframe tbody tr th {\n",
       "        vertical-align: top;\n",
       "    }\n",
       "\n",
       "    .dataframe thead th {\n",
       "        text-align: right;\n",
       "    }\n",
       "</style>\n",
       "<table border=\"1\" class=\"dataframe\">\n",
       "  <thead>\n",
       "    <tr style=\"text-align: right;\">\n",
       "      <th></th>\n",
       "      <th>Gender</th>\n",
       "      <th>Age</th>\n",
       "      <th>Months_Count</th>\n",
       "      <th>Salary</th>\n",
       "      <th>Expenditure</th>\n",
       "      <th>House_Price</th>\n",
       "    </tr>\n",
       "  </thead>\n",
       "  <tbody>\n",
       "    <tr>\n",
       "      <th>0</th>\n",
       "      <td>1</td>\n",
       "      <td>2</td>\n",
       "      <td>3</td>\n",
       "      <td>1</td>\n",
       "      <td>34</td>\n",
       "      <td>9884</td>\n",
       "    </tr>\n",
       "    <tr>\n",
       "      <th>1</th>\n",
       "      <td>1</td>\n",
       "      <td>2</td>\n",
       "      <td>34</td>\n",
       "      <td>0</td>\n",
       "      <td>56</td>\n",
       "      <td>2442</td>\n",
       "    </tr>\n",
       "  </tbody>\n",
       "</table>\n",
       "</div>"
      ],
      "text/plain": [
       "   Gender  Age  Months_Count  Salary  Expenditure  House_Price\n",
       "0       1    2             3       1           34         9884\n",
       "1       1    2            34       0           56         2442"
      ]
     },
     "execution_count": 3,
     "metadata": {},
     "output_type": "execute_result"
    }
   ],
   "source": [
    "#read the dataset\n",
    "import pandas as pd\n",
    "df=pd.read_csv(\"data.csv\")\n",
    "df.head(2)"
   ]
  },
  {
   "cell_type": "code",
   "execution_count": 4,
   "metadata": {},
   "outputs": [],
   "source": [
    "#Extract the columns names for features\n",
    "V.ds=df\n",
    "\n",
    "#you can also use:\n",
    "#V.dataSourcing = df"
   ]
  },
  {
   "cell_type": "code",
   "execution_count": 5,
   "metadata": {},
   "outputs": [
    {
     "data": {
      "text/plain": [
       "['Gender', 'Age', 'Months_Count', 'Salary', 'Expenditure', 'House_Price']"
      ]
     },
     "execution_count": 5,
     "metadata": {},
     "output_type": "execute_result"
    }
   ],
   "source": [
    "#Print the feature being used\n",
    "V.ds"
   ]
  },
  {
   "cell_type": "code",
   "execution_count": 6,
   "metadata": {},
   "outputs": [],
   "source": [
    "# Do some feature engineering\n",
    "df[\"salary_feature\"]= df[\"Salary\"] * 100/ df[\"House_Price\"]\n",
    "df['salary_ratio1']=df[\"Salary\"] * 100 / df[\"Months_Count\"] * 100"
   ]
  },
  {
   "cell_type": "code",
   "execution_count": 7,
   "metadata": {},
   "outputs": [],
   "source": [
    "#Extract features engineered\n",
    "V.fe=df\n",
    "\n",
    "#you can also use:\n",
    "#V.featureEngineering = df"
   ]
  },
  {
   "cell_type": "code",
   "execution_count": 8,
   "metadata": {},
   "outputs": [
    {
     "data": {
      "text/plain": [
       "['salary_feature', 'salary_ratio1']"
      ]
     },
     "execution_count": 8,
     "metadata": {},
     "output_type": "execute_result"
    }
   ],
   "source": [
    "#Print the features engineered\n",
    "V.fe"
   ]
  },
  {
   "cell_type": "code",
   "execution_count": 9,
   "metadata": {
    "scrolled": false
   },
   "outputs": [],
   "source": [
    "#Track variables which have been used for modelling\n",
    "V.start()\n",
    "\n",
    "#you can also use:\n",
    "#V.startModelling()"
   ]
  },
  {
   "cell_type": "code",
   "execution_count": 10,
   "metadata": {},
   "outputs": [],
   "source": [
    "#All the varibales mentioned here will be tracked\n",
    "epochs=1500\n",
    "seed=2000\n",
    "loss='rmse'\n",
    "accuracy= 91.2"
   ]
  },
  {
   "cell_type": "code",
   "execution_count": 11,
   "metadata": {},
   "outputs": [
    {
     "data": {
      "text/plain": [
       "{'epochs': 1500, 'seed': 2000, 'loss': 'rmse', 'accuracy': 91.2}"
      ]
     },
     "execution_count": 11,
     "metadata": {},
     "output_type": "execute_result"
    }
   ],
   "source": [
    "#end tracking of variables\n",
    "V.end()\n",
    "#you can also use V.endModelling()"
   ]
  },
  {
   "cell_type": "code",
   "execution_count": 12,
   "metadata": {},
   "outputs": [
    {
     "data": {
      "text/plain": [
       "{'epochs': 1500,\n",
       " 'seed': 2000,\n",
       " 'loss': 'rmse',\n",
       " 'accuracy': 91.2,\n",
       " 'recall': 95,\n",
       " 'precision': 87}"
      ]
     },
     "execution_count": 12,
     "metadata": {},
     "output_type": "execute_result"
    }
   ],
   "source": [
    "V.start()\n",
    "recall = 95\n",
    "precision = 87\n",
    "V.end()"
   ]
  },
  {
   "cell_type": "code",
   "execution_count": 13,
   "metadata": {
    "scrolled": true
   },
   "outputs": [
    {
     "name": "stdout",
     "output_type": "stream",
     "text": [
      "Dumped the experiment in the file vevestaDump.xlsx\n",
      "Love VevestaX? Give us a shoutout at vevestax@vevesta.com\n"
     ]
    }
   ],
   "source": [
    "# Dump the datasourcing, features engineered and the variables tracked in a xlsx file\n",
    "V.dump(techniqueUsed='XGBoost',filename=\"vevestaDump.xlsx\",message=\"precision is tracked\",version=1)\n",
    "\n",
    "#if filename is not mentioned, then by default the data will be dumped to vevesta.xlsx file\n",
    "#V.dump(techniqueUsed='XGBoost')"
   ]
  },
  {
   "cell_type": "code",
   "execution_count": null,
   "metadata": {},
   "outputs": [],
   "source": [
    "V.commit(techniqueUsed = \"XGBoost\", message=\"increased accuracy\", version=1, projectId=159)"
   ]
  },
  {
   "cell_type": "code",
   "execution_count": null,
   "metadata": {},
   "outputs": [],
   "source": []
  }
 ],
 "metadata": {
  "kernelspec": {
   "display_name": "Python 3",
   "language": "python",
   "name": "python3"
  },
  "language_info": {
   "codemirror_mode": {
    "name": "ipython",
    "version": 3
   },
   "file_extension": ".py",
   "mimetype": "text/x-python",
   "name": "python",
   "nbconvert_exporter": "python",
   "pygments_lexer": "ipython3",
   "version": "3.8.8"
  }
 },
 "nbformat": 4,
 "nbformat_minor": 4
}
